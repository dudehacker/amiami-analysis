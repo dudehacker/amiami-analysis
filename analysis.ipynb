{
 "cells": [
  {
   "cell_type": "code",
   "execution_count": 53,
   "metadata": {},
   "outputs": [],
   "source": [
    "import pandas as pd\n",
    "import numpy as np\n",
    "import matplotlib.pyplot as plt\n",
    "from matplotlib import rcParams\n",
    "rcParams.update({'figure.autolayout': True})"
   ]
  },
  {
   "cell_type": "markdown",
   "metadata": {},
   "source": [
    "# Load Data"
   ]
  },
  {
   "cell_type": "code",
   "execution_count": 3,
   "metadata": {
    "scrolled": true
   },
   "outputs": [
    {
     "data": {
      "text/html": [
       "<div>\n",
       "<style scoped>\n",
       "    .dataframe tbody tr th:only-of-type {\n",
       "        vertical-align: middle;\n",
       "    }\n",
       "\n",
       "    .dataframe tbody tr th {\n",
       "        vertical-align: top;\n",
       "    }\n",
       "\n",
       "    .dataframe thead th {\n",
       "        text-align: right;\n",
       "    }\n",
       "</style>\n",
       "<table border=\"1\" class=\"dataframe\">\n",
       "  <thead>\n",
       "    <tr style=\"text-align: right;\">\n",
       "      <th></th>\n",
       "      <th>gcode</th>\n",
       "      <th>ReleaseDate</th>\n",
       "      <th>ListPrice</th>\n",
       "      <th>Brand</th>\n",
       "      <th>Series Title</th>\n",
       "      <th>Character Name</th>\n",
       "      <th>Sculptor</th>\n",
       "      <th>Scale</th>\n",
       "      <th>Size</th>\n",
       "      <th>Material</th>\n",
       "    </tr>\n",
       "  </thead>\n",
       "  <tbody>\n",
       "    <tr>\n",
       "      <th>4639</th>\n",
       "      <td>FIGURE-055847</td>\n",
       "      <td>2020-08-01 00:00:00</td>\n",
       "      <td>2200</td>\n",
       "      <td>Bandai</td>\n",
       "      <td>\"Sword Art Online\" Series</td>\n",
       "      <td>Suguha Kirigaya(Leafa)</td>\n",
       "      <td>NaN</td>\n",
       "      <td>NaN</td>\n",
       "      <td>25cm</td>\n",
       "      <td>NaN</td>\n",
       "    </tr>\n",
       "    <tr>\n",
       "      <th>4640</th>\n",
       "      <td>FIG-MOE-7067</td>\n",
       "      <td>2012-12-01 00:00:00</td>\n",
       "      <td>8856</td>\n",
       "      <td>SkyTube</td>\n",
       "      <td>SoniComi</td>\n",
       "      <td>Super Sonico</td>\n",
       "      <td>2%</td>\n",
       "      <td>1/6</td>\n",
       "      <td>Approx. H260mm</td>\n",
       "      <td>NaN</td>\n",
       "    </tr>\n",
       "    <tr>\n",
       "      <th>4641</th>\n",
       "      <td>FIGURE-035776</td>\n",
       "      <td>2018-12-01 00:00:00</td>\n",
       "      <td>14800</td>\n",
       "      <td>Max Factory</td>\n",
       "      <td>Saekano: How to Raise a Boring Girlfriend</td>\n",
       "      <td>Eriri Spencer Sawamura(Eri Kashiwagi)</td>\n",
       "      <td>Abira Purazuma Houriki Mokei</td>\n",
       "      <td>1/7</td>\n",
       "      <td>Approx. H200mm</td>\n",
       "      <td>ABS &amp; PVC</td>\n",
       "    </tr>\n",
       "    <tr>\n",
       "      <th>4642</th>\n",
       "      <td>FIG-MOE-2367</td>\n",
       "      <td>2011-04-01 00:00:00</td>\n",
       "      <td>5965</td>\n",
       "      <td>Good Smile Company</td>\n",
       "      <td>Angel Beats!</td>\n",
       "      <td>Yuri Nakamura</td>\n",
       "      <td>Sanzigen</td>\n",
       "      <td>1/8</td>\n",
       "      <td>Approx. H195mm</td>\n",
       "      <td>NaN</td>\n",
       "    </tr>\n",
       "    <tr>\n",
       "      <th>4643</th>\n",
       "      <td>HOB-FIG-0560</td>\n",
       "      <td>2006-05-01 00:00:00</td>\n",
       "      <td>16280</td>\n",
       "      <td>Aizu Project</td>\n",
       "      <td>Nadia: The Secret of Blue Water</td>\n",
       "      <td>Nadia</td>\n",
       "      <td>Cherry Blossom</td>\n",
       "      <td>1/7</td>\n",
       "      <td>NaN</td>\n",
       "      <td>NaN</td>\n",
       "    </tr>\n",
       "  </tbody>\n",
       "</table>\n",
       "</div>"
      ],
      "text/plain": [
       "              gcode          ReleaseDate  ListPrice               Brand  \\\n",
       "4639  FIGURE-055847  2020-08-01 00:00:00       2200              Bandai   \n",
       "4640   FIG-MOE-7067  2012-12-01 00:00:00       8856             SkyTube   \n",
       "4641  FIGURE-035776  2018-12-01 00:00:00      14800         Max Factory   \n",
       "4642   FIG-MOE-2367  2011-04-01 00:00:00       5965  Good Smile Company   \n",
       "4643   HOB-FIG-0560  2006-05-01 00:00:00      16280        Aizu Project   \n",
       "\n",
       "                                   Series Title  \\\n",
       "4639                  \"Sword Art Online\" Series   \n",
       "4640                                   SoniComi   \n",
       "4641  Saekano: How to Raise a Boring Girlfriend   \n",
       "4642                               Angel Beats!   \n",
       "4643            Nadia: The Secret of Blue Water   \n",
       "\n",
       "                             Character Name                      Sculptor  \\\n",
       "4639                 Suguha Kirigaya(Leafa)                           NaN   \n",
       "4640                           Super Sonico                           2%    \n",
       "4641  Eriri Spencer Sawamura(Eri Kashiwagi)  Abira Purazuma Houriki Mokei   \n",
       "4642                          Yuri Nakamura                     Sanzigen    \n",
       "4643                                  Nadia                Cherry Blossom   \n",
       "\n",
       "     Scale            Size   Material  \n",
       "4639   NaN            25cm        NaN  \n",
       "4640   1/6  Approx. H260mm        NaN  \n",
       "4641   1/7  Approx. H200mm  ABS & PVC  \n",
       "4642   1/8  Approx. H195mm        NaN  \n",
       "4643   1/7             NaN        NaN  "
      ]
     },
     "execution_count": 3,
     "metadata": {},
     "output_type": "execute_result"
    }
   ],
   "source": [
    "df = pd.read_csv('data.csv')\n",
    "df.tail(5)"
   ]
  },
  {
   "cell_type": "markdown",
   "metadata": {},
   "source": [
    "# Clean data"
   ]
  },
  {
   "cell_type": "code",
   "execution_count": 4,
   "metadata": {},
   "outputs": [],
   "source": [
    "# convert string to datetime type\n",
    "df['ReleaseDate'] = pd.to_datetime(df['ReleaseDate'])"
   ]
  },
  {
   "cell_type": "code",
   "execution_count": 5,
   "metadata": {},
   "outputs": [
    {
     "data": {
      "text/plain": [
       "Timestamp('2021-12-01 00:00:00')"
      ]
     },
     "execution_count": 5,
     "metadata": {},
     "output_type": "execute_result"
    }
   ],
   "source": [
    "df['ReleaseDate'].max()"
   ]
  },
  {
   "cell_type": "code",
   "execution_count": 6,
   "metadata": {},
   "outputs": [
    {
     "data": {
      "text/plain": [
       "Timestamp('2002-09-01 00:00:00')"
      ]
     },
     "execution_count": 6,
     "metadata": {},
     "output_type": "execute_result"
    }
   ],
   "source": [
    "df['ReleaseDate'].min()"
   ]
  },
  {
   "cell_type": "markdown",
   "metadata": {},
   "source": [
    "### keep only scale 1/6 to 1/9"
   ]
  },
  {
   "cell_type": "code",
   "execution_count": 7,
   "metadata": {
    "scrolled": true
   },
   "outputs": [
    {
     "name": "stderr",
     "output_type": "stream",
     "text": [
      "C:\\ProgramData\\Anaconda3\\lib\\site-packages\\pandas\\core\\strings.py:1954: UserWarning: This pattern has match groups. To actually get the groups, use str.extract.\n",
      "  return func(self, *args, **kwargs)\n"
     ]
    },
    {
     "data": {
      "text/html": [
       "<div>\n",
       "<style scoped>\n",
       "    .dataframe tbody tr th:only-of-type {\n",
       "        vertical-align: middle;\n",
       "    }\n",
       "\n",
       "    .dataframe tbody tr th {\n",
       "        vertical-align: top;\n",
       "    }\n",
       "\n",
       "    .dataframe thead th {\n",
       "        text-align: right;\n",
       "    }\n",
       "</style>\n",
       "<table border=\"1\" class=\"dataframe\">\n",
       "  <thead>\n",
       "    <tr style=\"text-align: right;\">\n",
       "      <th></th>\n",
       "      <th>gcode</th>\n",
       "      <th>ReleaseDate</th>\n",
       "      <th>ListPrice</th>\n",
       "      <th>Brand</th>\n",
       "      <th>Series Title</th>\n",
       "      <th>Character Name</th>\n",
       "      <th>Sculptor</th>\n",
       "      <th>Scale</th>\n",
       "      <th>Size</th>\n",
       "      <th>Material</th>\n",
       "    </tr>\n",
       "  </thead>\n",
       "  <tbody>\n",
       "    <tr>\n",
       "      <th>4637</th>\n",
       "      <td>FIGURE-059725</td>\n",
       "      <td>2020-10-01</td>\n",
       "      <td>19580</td>\n",
       "      <td>Orca Toys</td>\n",
       "      <td>FAIRY TAIL</td>\n",
       "      <td>Erza Scarlet(Erza Knightwalker)</td>\n",
       "      <td>Kazushi Kawasaki</td>\n",
       "      <td>1/6</td>\n",
       "      <td>Approx. H275mm</td>\n",
       "      <td>PVC</td>\n",
       "    </tr>\n",
       "    <tr>\n",
       "      <th>4640</th>\n",
       "      <td>FIG-MOE-7067</td>\n",
       "      <td>2012-12-01</td>\n",
       "      <td>8856</td>\n",
       "      <td>SkyTube</td>\n",
       "      <td>SoniComi</td>\n",
       "      <td>Super Sonico</td>\n",
       "      <td>2%</td>\n",
       "      <td>1/6</td>\n",
       "      <td>Approx. H260mm</td>\n",
       "      <td>NaN</td>\n",
       "    </tr>\n",
       "    <tr>\n",
       "      <th>4641</th>\n",
       "      <td>FIGURE-035776</td>\n",
       "      <td>2018-12-01</td>\n",
       "      <td>14800</td>\n",
       "      <td>Max Factory</td>\n",
       "      <td>Saekano: How to Raise a Boring Girlfriend</td>\n",
       "      <td>Eriri Spencer Sawamura(Eri Kashiwagi)</td>\n",
       "      <td>Abira Purazuma Houriki Mokei</td>\n",
       "      <td>1/7</td>\n",
       "      <td>Approx. H200mm</td>\n",
       "      <td>ABS &amp; PVC</td>\n",
       "    </tr>\n",
       "    <tr>\n",
       "      <th>4642</th>\n",
       "      <td>FIG-MOE-2367</td>\n",
       "      <td>2011-04-01</td>\n",
       "      <td>5965</td>\n",
       "      <td>Good Smile Company</td>\n",
       "      <td>Angel Beats!</td>\n",
       "      <td>Yuri Nakamura</td>\n",
       "      <td>Sanzigen</td>\n",
       "      <td>1/8</td>\n",
       "      <td>Approx. H195mm</td>\n",
       "      <td>NaN</td>\n",
       "    </tr>\n",
       "    <tr>\n",
       "      <th>4643</th>\n",
       "      <td>HOB-FIG-0560</td>\n",
       "      <td>2006-05-01</td>\n",
       "      <td>16280</td>\n",
       "      <td>Aizu Project</td>\n",
       "      <td>Nadia: The Secret of Blue Water</td>\n",
       "      <td>Nadia</td>\n",
       "      <td>Cherry Blossom</td>\n",
       "      <td>1/7</td>\n",
       "      <td>NaN</td>\n",
       "      <td>NaN</td>\n",
       "    </tr>\n",
       "  </tbody>\n",
       "</table>\n",
       "</div>"
      ],
      "text/plain": [
       "              gcode ReleaseDate  ListPrice               Brand  \\\n",
       "4637  FIGURE-059725  2020-10-01      19580           Orca Toys   \n",
       "4640   FIG-MOE-7067  2012-12-01       8856             SkyTube   \n",
       "4641  FIGURE-035776  2018-12-01      14800         Max Factory   \n",
       "4642   FIG-MOE-2367  2011-04-01       5965  Good Smile Company   \n",
       "4643   HOB-FIG-0560  2006-05-01      16280        Aizu Project   \n",
       "\n",
       "                                   Series Title  \\\n",
       "4637                                 FAIRY TAIL   \n",
       "4640                                   SoniComi   \n",
       "4641  Saekano: How to Raise a Boring Girlfriend   \n",
       "4642                               Angel Beats!   \n",
       "4643            Nadia: The Secret of Blue Water   \n",
       "\n",
       "                             Character Name                      Sculptor  \\\n",
       "4637        Erza Scarlet(Erza Knightwalker)             Kazushi Kawasaki    \n",
       "4640                           Super Sonico                           2%    \n",
       "4641  Eriri Spencer Sawamura(Eri Kashiwagi)  Abira Purazuma Houriki Mokei   \n",
       "4642                          Yuri Nakamura                     Sanzigen    \n",
       "4643                                  Nadia                Cherry Blossom   \n",
       "\n",
       "     Scale            Size   Material  \n",
       "4637   1/6  Approx. H275mm        PVC  \n",
       "4640   1/6  Approx. H260mm        NaN  \n",
       "4641   1/7  Approx. H200mm  ABS & PVC  \n",
       "4642   1/8  Approx. H195mm        NaN  \n",
       "4643   1/7             NaN        NaN  "
      ]
     },
     "execution_count": 7,
     "metadata": {},
     "output_type": "execute_result"
    }
   ],
   "source": [
    "df = df[df['Scale'].str.contains('1/(6|7|8|9)',regex=True,na=False)]\n",
    "df.tail(5)"
   ]
  },
  {
   "cell_type": "markdown",
   "metadata": {},
   "source": [
    "### remove rows where price is 0 (server data issues)"
   ]
  },
  {
   "cell_type": "code",
   "execution_count": 9,
   "metadata": {
    "scrolled": true
   },
   "outputs": [
    {
     "data": {
      "text/html": [
       "<div>\n",
       "<style scoped>\n",
       "    .dataframe tbody tr th:only-of-type {\n",
       "        vertical-align: middle;\n",
       "    }\n",
       "\n",
       "    .dataframe tbody tr th {\n",
       "        vertical-align: top;\n",
       "    }\n",
       "\n",
       "    .dataframe thead th {\n",
       "        text-align: right;\n",
       "    }\n",
       "</style>\n",
       "<table border=\"1\" class=\"dataframe\">\n",
       "  <thead>\n",
       "    <tr style=\"text-align: right;\">\n",
       "      <th></th>\n",
       "      <th>gcode</th>\n",
       "      <th>ReleaseDate</th>\n",
       "      <th>ListPrice</th>\n",
       "      <th>Brand</th>\n",
       "      <th>Series Title</th>\n",
       "      <th>Character Name</th>\n",
       "      <th>Sculptor</th>\n",
       "      <th>Scale</th>\n",
       "      <th>Size</th>\n",
       "      <th>Material</th>\n",
       "    </tr>\n",
       "  </thead>\n",
       "  <tbody>\n",
       "    <tr>\n",
       "      <th>4637</th>\n",
       "      <td>FIGURE-059725</td>\n",
       "      <td>2020-10-01</td>\n",
       "      <td>19580</td>\n",
       "      <td>Orca Toys</td>\n",
       "      <td>FAIRY TAIL</td>\n",
       "      <td>Erza Scarlet(Erza Knightwalker)</td>\n",
       "      <td>Kazushi Kawasaki</td>\n",
       "      <td>1/6</td>\n",
       "      <td>Approx. H275mm</td>\n",
       "      <td>PVC</td>\n",
       "    </tr>\n",
       "    <tr>\n",
       "      <th>4640</th>\n",
       "      <td>FIG-MOE-7067</td>\n",
       "      <td>2012-12-01</td>\n",
       "      <td>8856</td>\n",
       "      <td>SkyTube</td>\n",
       "      <td>SoniComi</td>\n",
       "      <td>Super Sonico</td>\n",
       "      <td>2%</td>\n",
       "      <td>1/6</td>\n",
       "      <td>Approx. H260mm</td>\n",
       "      <td>NaN</td>\n",
       "    </tr>\n",
       "    <tr>\n",
       "      <th>4641</th>\n",
       "      <td>FIGURE-035776</td>\n",
       "      <td>2018-12-01</td>\n",
       "      <td>14800</td>\n",
       "      <td>Max Factory</td>\n",
       "      <td>Saekano: How to Raise a Boring Girlfriend</td>\n",
       "      <td>Eriri Spencer Sawamura(Eri Kashiwagi)</td>\n",
       "      <td>Abira Purazuma Houriki Mokei</td>\n",
       "      <td>1/7</td>\n",
       "      <td>Approx. H200mm</td>\n",
       "      <td>ABS &amp; PVC</td>\n",
       "    </tr>\n",
       "    <tr>\n",
       "      <th>4642</th>\n",
       "      <td>FIG-MOE-2367</td>\n",
       "      <td>2011-04-01</td>\n",
       "      <td>5965</td>\n",
       "      <td>Good Smile Company</td>\n",
       "      <td>Angel Beats!</td>\n",
       "      <td>Yuri Nakamura</td>\n",
       "      <td>Sanzigen</td>\n",
       "      <td>1/8</td>\n",
       "      <td>Approx. H195mm</td>\n",
       "      <td>NaN</td>\n",
       "    </tr>\n",
       "    <tr>\n",
       "      <th>4643</th>\n",
       "      <td>HOB-FIG-0560</td>\n",
       "      <td>2006-05-01</td>\n",
       "      <td>16280</td>\n",
       "      <td>Aizu Project</td>\n",
       "      <td>Nadia: The Secret of Blue Water</td>\n",
       "      <td>Nadia</td>\n",
       "      <td>Cherry Blossom</td>\n",
       "      <td>1/7</td>\n",
       "      <td>NaN</td>\n",
       "      <td>NaN</td>\n",
       "    </tr>\n",
       "  </tbody>\n",
       "</table>\n",
       "</div>"
      ],
      "text/plain": [
       "              gcode ReleaseDate  ListPrice               Brand  \\\n",
       "4637  FIGURE-059725  2020-10-01      19580           Orca Toys   \n",
       "4640   FIG-MOE-7067  2012-12-01       8856             SkyTube   \n",
       "4641  FIGURE-035776  2018-12-01      14800         Max Factory   \n",
       "4642   FIG-MOE-2367  2011-04-01       5965  Good Smile Company   \n",
       "4643   HOB-FIG-0560  2006-05-01      16280        Aizu Project   \n",
       "\n",
       "                                   Series Title  \\\n",
       "4637                                 FAIRY TAIL   \n",
       "4640                                   SoniComi   \n",
       "4641  Saekano: How to Raise a Boring Girlfriend   \n",
       "4642                               Angel Beats!   \n",
       "4643            Nadia: The Secret of Blue Water   \n",
       "\n",
       "                             Character Name                      Sculptor  \\\n",
       "4637        Erza Scarlet(Erza Knightwalker)             Kazushi Kawasaki    \n",
       "4640                           Super Sonico                           2%    \n",
       "4641  Eriri Spencer Sawamura(Eri Kashiwagi)  Abira Purazuma Houriki Mokei   \n",
       "4642                          Yuri Nakamura                     Sanzigen    \n",
       "4643                                  Nadia                Cherry Blossom   \n",
       "\n",
       "     Scale            Size   Material  \n",
       "4637   1/6  Approx. H275mm        PVC  \n",
       "4640   1/6  Approx. H260mm        NaN  \n",
       "4641   1/7  Approx. H200mm  ABS & PVC  \n",
       "4642   1/8  Approx. H195mm        NaN  \n",
       "4643   1/7             NaN        NaN  "
      ]
     },
     "execution_count": 9,
     "metadata": {},
     "output_type": "execute_result"
    }
   ],
   "source": [
    "df = df[df['ListPrice']!=0]\n",
    "df.tail(5)"
   ]
  },
  {
   "cell_type": "markdown",
   "metadata": {},
   "source": [
    "# Data Analysis"
   ]
  },
  {
   "cell_type": "markdown",
   "metadata": {},
   "source": [
    "## Avg price per year"
   ]
  },
  {
   "cell_type": "code",
   "execution_count": 10,
   "metadata": {
    "scrolled": true
   },
   "outputs": [
    {
     "data": {
      "text/plain": [
       "ReleaseDate\n",
       "2003     3278.000000\n",
       "2004     5238.500000\n",
       "2005     5809.562500\n",
       "2006     6963.438776\n",
       "2007     6714.576159\n",
       "2008     7725.528090\n",
       "2009     8944.401198\n",
       "2010     9841.992481\n",
       "2011     9670.640449\n",
       "2012     9934.297297\n",
       "2013    10007.372781\n",
       "2014    11551.488506\n",
       "2015    12797.335260\n",
       "2016    13642.115854\n",
       "2017    14643.320856\n",
       "2018    15198.675926\n",
       "2019    15766.753425\n",
       "2020    17242.036667\n",
       "2021    19036.291262\n",
       "Freq: A-DEC, Name: ListPrice, dtype: float64"
      ]
     },
     "execution_count": 10,
     "metadata": {},
     "output_type": "execute_result"
    }
   ],
   "source": [
    "yearlyPrice =  df.groupby(df['ReleaseDate'].dt.to_period('A'))['ListPrice'].agg('mean')\n",
    "yearlyPrice"
   ]
  },
  {
   "cell_type": "code",
   "execution_count": 60,
   "metadata": {
    "scrolled": true
   },
   "outputs": [
    {
     "data": {
      "image/png": "[encoded data removed]",
      "text/plain": [
       "<Figure size 432x288 with 1 Axes>"
      ]
     },
     "metadata": {
      "needs_background": "light"
     },
     "output_type": "display_data"
    }
   ],
   "source": [
    "yearlyPricePlt = yearlyPrice.plot(kind='bar',title='Avg Yearly Price')"
   ]
  },
  {
   "cell_type": "code",
   "execution_count": 75,
   "metadata": {},
   "outputs": [],
   "source": [
    "fig = yearlyPricePlt.get_figure()\n",
    "fig.set_size_inches(18.5, 10.5)\n",
    "fig.savefig(\"yearlyAvgPrice.png\")"
   ]
  },
  {
   "cell_type": "markdown",
   "metadata": {},
   "source": [
    "## Most Expansive Brand"
   ]
  },
  {
   "cell_type": "code",
   "execution_count": 50,
   "metadata": {},
   "outputs": [],
   "source": [
    "brandAvgPrice =  df.groupby(df['Brand'])['ListPrice'].agg('mean')\n",
    "MostBrand = brandAvgPrice.sort_values(ascending=False).head(10)"
   ]
  },
  {
   "cell_type": "code",
   "execution_count": 64,
   "metadata": {
    "scrolled": true
   },
   "outputs": [
    {
     "data": {
      "image/png": "[encoded data removed]",
      "text/plain": [
       "<Figure size 432x288 with 1 Axes>"
      ]
     },
     "metadata": {
      "needs_background": "light"
     },
     "output_type": "display_data"
    }
   ],
   "source": [
    "TopBrandPlt = MostBrand.plot(kind='bar',title='Top Brand')"
   ]
  },
  {
   "cell_type": "code",
   "execution_count": 74,
   "metadata": {},
   "outputs": [],
   "source": [
    "fig = TopBrandPlt.get_figure()\n",
    "fig.set_size_inches(18.5, 10.5)\n",
    "fig.savefig(\"Top Brand.png\")"
   ]
  },
  {
   "cell_type": "markdown",
   "metadata": {},
   "source": [
    "## Series"
   ]
  },
  {
   "cell_type": "code",
   "execution_count": 16,
   "metadata": {},
   "outputs": [],
   "source": [
    "seriesCount = df.groupby(df['Series Title'])['gcode'].agg('count')\n",
    "mostSeries = seriesCount.sort_values(ascending=False).head(10)"
   ]
  },
  {
   "cell_type": "code",
   "execution_count": 56,
   "metadata": {
    "scrolled": true
   },
   "outputs": [
    {
     "data": {
      "image/png": "[encoded data removed]",
      "text/plain": [
       "<Figure size 432x288 with 1 Axes>"
      ]
     },
     "metadata": {
      "needs_background": "light"
     },
     "output_type": "display_data"
    }
   ],
   "source": [
    "mostSeriesPlt = mostSeries.plot(kind='bar',title='Top Series')"
   ]
  },
  {
   "cell_type": "code",
   "execution_count": 73,
   "metadata": {},
   "outputs": [],
   "source": [
    "fig = mostSeriesPlt.get_figure()\n",
    "fig.set_size_inches(18.5, 10.5)\n",
    "fig.savefig(\"Most Series.png\")"
   ]
  },
  {
   "cell_type": "markdown",
   "metadata": {},
   "source": [
    "## Character"
   ]
  },
  {
   "cell_type": "code",
   "execution_count": 19,
   "metadata": {},
   "outputs": [],
   "source": [
    "CharCount = df.groupby(df['Character Name'])['gcode'].agg('count')\n",
    "mostChar = CharCount.sort_values(ascending=False).head(10)"
   ]
  },
  {
   "cell_type": "code",
   "execution_count": 66,
   "metadata": {},
   "outputs": [
    {
     "data": {
      "image/png": "[encoded data removed]",
      "text/plain": [
       "<Figure size 432x288 with 1 Axes>"
      ]
     },
     "metadata": {
      "needs_background": "light"
     },
     "output_type": "display_data"
    }
   ],
   "source": [
    "mostCharPlt = mostChar.plot(kind='bar',title='Top Characters')"
   ]
  },
  {
   "cell_type": "code",
   "execution_count": 76,
   "metadata": {},
   "outputs": [],
   "source": [
    "fig = mostCharPlt.get_figure()\n",
    "fig.set_size_inches(18.5, 10.5)\n",
    "fig.savefig(\"Most Chars.png\")"
   ]
  }
 ],
 "metadata": {
  "kernelspec": {
   "display_name": "Python 3",
   "language": "python",
   "name": "python3"
  },
  "language_info": {
   "codemirror_mode": {
    "name": "ipython",
    "version": 3
   },
   "file_extension": ".py",
   "mimetype": "text/x-python",
   "name": "python",
   "nbconvert_exporter": "python",
   "pygments_lexer": "ipython3",
   "version": "3.8.3"
  }
 },
 "nbformat": 4,
 "nbformat_minor": 4
}
